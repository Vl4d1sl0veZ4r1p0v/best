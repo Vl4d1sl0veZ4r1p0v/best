{
 "cells": [
  {
   "cell_type": "code",
   "execution_count": 1,
   "metadata": {},
   "outputs": [],
   "source": [
    "import pandas as pd\n",
    "import numpy as np\n",
    "import matplotlib.pyplot as plt\n",
    "import seaborn as sns"
   ]
  },
  {
   "cell_type": "code",
   "execution_count": 2,
   "metadata": {},
   "outputs": [
    {
     "data": {
      "text/html": [
       "<div>\n",
       "<style scoped>\n",
       "    .dataframe tbody tr th:only-of-type {\n",
       "        vertical-align: middle;\n",
       "    }\n",
       "\n",
       "    .dataframe tbody tr th {\n",
       "        vertical-align: top;\n",
       "    }\n",
       "\n",
       "    .dataframe thead th {\n",
       "        text-align: right;\n",
       "    }\n",
       "</style>\n",
       "<table border=\"1\" class=\"dataframe\">\n",
       "  <thead>\n",
       "    <tr style=\"text-align: right;\">\n",
       "      <th></th>\n",
       "      <th>SUBS_ID</th>\n",
       "      <th>DATE_CALC</th>\n",
       "      <th>TARIFF_ID</th>\n",
       "      <th>CHARGE</th>\n",
       "      <th>SUPPORT_4G</th>\n",
       "      <th>SUPPORT_3G</th>\n",
       "      <th>LTE_TRAFF_FLAG</th>\n",
       "      <th>SMS_IN_CNT</th>\n",
       "      <th>SMS_OUT_CNT</th>\n",
       "      <th>CALLS_IN_CNT</th>\n",
       "      <th>CALLS_OUT_CNT</th>\n",
       "      <th>LIFE_TIME</th>\n",
       "      <th>DURATION_IN_MIN</th>\n",
       "      <th>DURATION_OUT_MIN</th>\n",
       "      <th>DATA_TRAFFIC_MB</th>\n",
       "      <th>SESSIONS_CNT</th>\n",
       "      <th>RECHARGE</th>\n",
       "      <th>RECHARGE_CNT</th>\n",
       "      <th>Выборка</th>\n",
       "      <th>tariff_changes_count</th>\n",
       "    </tr>\n",
       "  </thead>\n",
       "  <tbody>\n",
       "    <tr>\n",
       "      <th>0</th>\n",
       "      <td>1245</td>\n",
       "      <td>2019-07-01</td>\n",
       "      <td>588.0</td>\n",
       "      <td>206.1</td>\n",
       "      <td>0</td>\n",
       "      <td>0</td>\n",
       "      <td>0.0</td>\n",
       "      <td>119</td>\n",
       "      <td>11</td>\n",
       "      <td>400</td>\n",
       "      <td>193</td>\n",
       "      <td>5213.0</td>\n",
       "      <td>448</td>\n",
       "      <td>237.15</td>\n",
       "      <td>16.79</td>\n",
       "      <td>838</td>\n",
       "      <td>250.0</td>\n",
       "      <td>2</td>\n",
       "      <td>1</td>\n",
       "      <td>0</td>\n",
       "    </tr>\n",
       "    <tr>\n",
       "      <th>1</th>\n",
       "      <td>1245</td>\n",
       "      <td>2019-08-01</td>\n",
       "      <td>588.0</td>\n",
       "      <td>378.9</td>\n",
       "      <td>0</td>\n",
       "      <td>0</td>\n",
       "      <td>0.0</td>\n",
       "      <td>125</td>\n",
       "      <td>13</td>\n",
       "      <td>332</td>\n",
       "      <td>215</td>\n",
       "      <td>5244.0</td>\n",
       "      <td>441</td>\n",
       "      <td>374.88</td>\n",
       "      <td>12.22</td>\n",
       "      <td>731</td>\n",
       "      <td>650.0</td>\n",
       "      <td>3</td>\n",
       "      <td>1</td>\n",
       "      <td>0</td>\n",
       "    </tr>\n",
       "    <tr>\n",
       "      <th>2</th>\n",
       "      <td>1245</td>\n",
       "      <td>2019-09-01</td>\n",
       "      <td>588.0</td>\n",
       "      <td>328.9</td>\n",
       "      <td>0</td>\n",
       "      <td>0</td>\n",
       "      <td>0.0</td>\n",
       "      <td>75</td>\n",
       "      <td>15</td>\n",
       "      <td>320</td>\n",
       "      <td>221</td>\n",
       "      <td>5274.0</td>\n",
       "      <td>444</td>\n",
       "      <td>300.65</td>\n",
       "      <td>12.43</td>\n",
       "      <td>768</td>\n",
       "      <td>0.0</td>\n",
       "      <td>0</td>\n",
       "      <td>1</td>\n",
       "      <td>0</td>\n",
       "    </tr>\n",
       "    <tr>\n",
       "      <th>3</th>\n",
       "      <td>1261</td>\n",
       "      <td>2019-07-01</td>\n",
       "      <td>524.0</td>\n",
       "      <td>318.6</td>\n",
       "      <td>0</td>\n",
       "      <td>1</td>\n",
       "      <td>0.0</td>\n",
       "      <td>210</td>\n",
       "      <td>39</td>\n",
       "      <td>109</td>\n",
       "      <td>60</td>\n",
       "      <td>5213.0</td>\n",
       "      <td>431</td>\n",
       "      <td>212.50</td>\n",
       "      <td>1626.61</td>\n",
       "      <td>1608</td>\n",
       "      <td>340.0</td>\n",
       "      <td>4</td>\n",
       "      <td>1</td>\n",
       "      <td>0</td>\n",
       "    </tr>\n",
       "    <tr>\n",
       "      <th>4</th>\n",
       "      <td>1261</td>\n",
       "      <td>2019-08-01</td>\n",
       "      <td>524.0</td>\n",
       "      <td>262.3</td>\n",
       "      <td>0</td>\n",
       "      <td>1</td>\n",
       "      <td>0.0</td>\n",
       "      <td>309</td>\n",
       "      <td>24</td>\n",
       "      <td>72</td>\n",
       "      <td>122</td>\n",
       "      <td>5244.0</td>\n",
       "      <td>225</td>\n",
       "      <td>237.78</td>\n",
       "      <td>3591.44</td>\n",
       "      <td>1601</td>\n",
       "      <td>150.0</td>\n",
       "      <td>1</td>\n",
       "      <td>1</td>\n",
       "      <td>0</td>\n",
       "    </tr>\n",
       "  </tbody>\n",
       "</table>\n",
       "</div>"
      ],
      "text/plain": [
       "   SUBS_ID   DATE_CALC  TARIFF_ID  CHARGE  SUPPORT_4G  SUPPORT_3G  \\\n",
       "0     1245  2019-07-01      588.0   206.1           0           0   \n",
       "1     1245  2019-08-01      588.0   378.9           0           0   \n",
       "2     1245  2019-09-01      588.0   328.9           0           0   \n",
       "3     1261  2019-07-01      524.0   318.6           0           1   \n",
       "4     1261  2019-08-01      524.0   262.3           0           1   \n",
       "\n",
       "   LTE_TRAFF_FLAG  SMS_IN_CNT  SMS_OUT_CNT  CALLS_IN_CNT  CALLS_OUT_CNT  \\\n",
       "0             0.0         119           11           400            193   \n",
       "1             0.0         125           13           332            215   \n",
       "2             0.0          75           15           320            221   \n",
       "3             0.0         210           39           109             60   \n",
       "4             0.0         309           24            72            122   \n",
       "\n",
       "   LIFE_TIME  DURATION_IN_MIN  DURATION_OUT_MIN  DATA_TRAFFIC_MB  \\\n",
       "0     5213.0              448            237.15            16.79   \n",
       "1     5244.0              441            374.88            12.22   \n",
       "2     5274.0              444            300.65            12.43   \n",
       "3     5213.0              431            212.50          1626.61   \n",
       "4     5244.0              225            237.78          3591.44   \n",
       "\n",
       "   SESSIONS_CNT  RECHARGE  RECHARGE_CNT  Выборка  tariff_changes_count  \n",
       "0           838     250.0             2        1                     0  \n",
       "1           731     650.0             3        1                     0  \n",
       "2           768       0.0             0        1                     0  \n",
       "3          1608     340.0             4        1                     0  \n",
       "4          1601     150.0             1        1                     0  "
      ]
     },
     "execution_count": 2,
     "metadata": {},
     "output_type": "execute_result"
    }
   ],
   "source": [
    "df = pd.read_csv('extended_table.csv')\n",
    "df = df.dropna()\n",
    "df.head()"
   ]
  },
  {
   "cell_type": "code",
   "execution_count": 3,
   "metadata": {},
   "outputs": [
    {
     "data": {
      "text/plain": [
       "Index(['CHARGE', 'SUPPORT_4G', 'SUPPORT_3G', 'LTE_TRAFF_FLAG', 'SMS_IN_CNT',\n",
       "       'SMS_OUT_CNT', 'CALLS_IN_CNT', 'CALLS_OUT_CNT', 'LIFE_TIME',\n",
       "       'DURATION_IN_MIN', 'DURATION_OUT_MIN', 'DATA_TRAFFIC_MB',\n",
       "       'SESSIONS_CNT', 'RECHARGE', 'RECHARGE_CNT'],\n",
       "      dtype='object')"
      ]
     },
     "execution_count": 3,
     "metadata": {},
     "output_type": "execute_result"
    }
   ],
   "source": [
    "df.columns[3:-2]"
   ]
  },
  {
   "cell_type": "code",
   "execution_count": 4,
   "metadata": {},
   "outputs": [
    {
     "name": "stderr",
     "output_type": "stream",
     "text": [
      "/home/mark/anaconda3/lib/python3.7/site-packages/sklearn/linear_model/logistic.py:432: FutureWarning: Default solver will be changed to 'lbfgs' in 0.22. Specify a solver to silence this warning.\n",
      "  FutureWarning)\n",
      "/home/mark/anaconda3/lib/python3.7/site-packages/sklearn/linear_model/logistic.py:469: FutureWarning: Default multi_class will be changed to 'auto' in 0.22. Specify the multi_class option to silence this warning.\n",
      "  \"this warning.\", FutureWarning)\n",
      "/home/mark/anaconda3/lib/python3.7/site-packages/sklearn/linear_model/logistic.py:432: FutureWarning: Default solver will be changed to 'lbfgs' in 0.22. Specify a solver to silence this warning.\n",
      "  FutureWarning)\n",
      "/home/mark/anaconda3/lib/python3.7/site-packages/sklearn/linear_model/logistic.py:469: FutureWarning: Default multi_class will be changed to 'auto' in 0.22. Specify the multi_class option to silence this warning.\n",
      "  \"this warning.\", FutureWarning)\n",
      "/home/mark/anaconda3/lib/python3.7/site-packages/sklearn/linear_model/logistic.py:432: FutureWarning: Default solver will be changed to 'lbfgs' in 0.22. Specify a solver to silence this warning.\n",
      "  FutureWarning)\n",
      "/home/mark/anaconda3/lib/python3.7/site-packages/sklearn/linear_model/logistic.py:469: FutureWarning: Default multi_class will be changed to 'auto' in 0.22. Specify the multi_class option to silence this warning.\n",
      "  \"this warning.\", FutureWarning)\n",
      "/home/mark/anaconda3/lib/python3.7/site-packages/sklearn/svm/base.py:929: ConvergenceWarning: Liblinear failed to converge, increase the number of iterations.\n",
      "  \"the number of iterations.\", ConvergenceWarning)\n",
      "/home/mark/anaconda3/lib/python3.7/site-packages/sklearn/linear_model/logistic.py:432: FutureWarning: Default solver will be changed to 'lbfgs' in 0.22. Specify a solver to silence this warning.\n",
      "  FutureWarning)\n",
      "/home/mark/anaconda3/lib/python3.7/site-packages/sklearn/linear_model/logistic.py:469: FutureWarning: Default multi_class will be changed to 'auto' in 0.22. Specify the multi_class option to silence this warning.\n",
      "  \"this warning.\", FutureWarning)\n",
      "/home/mark/anaconda3/lib/python3.7/site-packages/sklearn/linear_model/logistic.py:432: FutureWarning: Default solver will be changed to 'lbfgs' in 0.22. Specify a solver to silence this warning.\n",
      "  FutureWarning)\n",
      "/home/mark/anaconda3/lib/python3.7/site-packages/sklearn/linear_model/logistic.py:469: FutureWarning: Default multi_class will be changed to 'auto' in 0.22. Specify the multi_class option to silence this warning.\n",
      "  \"this warning.\", FutureWarning)\n",
      "/home/mark/anaconda3/lib/python3.7/site-packages/sklearn/linear_model/logistic.py:432: FutureWarning: Default solver will be changed to 'lbfgs' in 0.22. Specify a solver to silence this warning.\n",
      "  FutureWarning)\n",
      "/home/mark/anaconda3/lib/python3.7/site-packages/sklearn/linear_model/logistic.py:469: FutureWarning: Default multi_class will be changed to 'auto' in 0.22. Specify the multi_class option to silence this warning.\n",
      "  \"this warning.\", FutureWarning)\n",
      "/home/mark/anaconda3/lib/python3.7/site-packages/sklearn/linear_model/logistic.py:432: FutureWarning: Default solver will be changed to 'lbfgs' in 0.22. Specify a solver to silence this warning.\n",
      "  FutureWarning)\n",
      "/home/mark/anaconda3/lib/python3.7/site-packages/sklearn/linear_model/logistic.py:469: FutureWarning: Default multi_class will be changed to 'auto' in 0.22. Specify the multi_class option to silence this warning.\n",
      "  \"this warning.\", FutureWarning)\n",
      "/home/mark/anaconda3/lib/python3.7/site-packages/sklearn/linear_model/logistic.py:432: FutureWarning: Default solver will be changed to 'lbfgs' in 0.22. Specify a solver to silence this warning.\n",
      "  FutureWarning)\n",
      "/home/mark/anaconda3/lib/python3.7/site-packages/sklearn/linear_model/logistic.py:469: FutureWarning: Default multi_class will be changed to 'auto' in 0.22. Specify the multi_class option to silence this warning.\n",
      "  \"this warning.\", FutureWarning)\n",
      "/home/mark/anaconda3/lib/python3.7/site-packages/sklearn/linear_model/logistic.py:432: FutureWarning: Default solver will be changed to 'lbfgs' in 0.22. Specify a solver to silence this warning.\n",
      "  FutureWarning)\n",
      "/home/mark/anaconda3/lib/python3.7/site-packages/sklearn/linear_model/logistic.py:469: FutureWarning: Default multi_class will be changed to 'auto' in 0.22. Specify the multi_class option to silence this warning.\n",
      "  \"this warning.\", FutureWarning)\n",
      "/home/mark/anaconda3/lib/python3.7/site-packages/sklearn/linear_model/logistic.py:432: FutureWarning: Default solver will be changed to 'lbfgs' in 0.22. Specify a solver to silence this warning.\n",
      "  FutureWarning)\n",
      "/home/mark/anaconda3/lib/python3.7/site-packages/sklearn/linear_model/logistic.py:469: FutureWarning: Default multi_class will be changed to 'auto' in 0.22. Specify the multi_class option to silence this warning.\n",
      "  \"this warning.\", FutureWarning)\n"
     ]
    }
   ],
   "source": [
    "from sklearn.linear_model import LogisticRegression\n",
    "from sklearn.model_selection import cross_val_score\n",
    "model = LogisticRegression()\n",
    "scores = cross_val_score(model, df[df.columns[3:-2]].values, df['tariff_changes_count'].values, cv=10)"
   ]
  },
  {
   "cell_type": "code",
   "execution_count": 5,
   "metadata": {},
   "outputs": [
    {
     "data": {
      "text/plain": [
       "0.9650080127318027"
      ]
     },
     "execution_count": 5,
     "metadata": {},
     "output_type": "execute_result"
    }
   ],
   "source": [
    "np.mean(scores)"
   ]
  },
  {
   "cell_type": "code",
   "execution_count": 6,
   "metadata": {},
   "outputs": [
    {
     "data": {
      "text/plain": [
       "[<matplotlib.lines.Line2D at 0x7f8b9757bb00>]"
      ]
     },
     "execution_count": 6,
     "metadata": {},
     "output_type": "execute_result"
    },
    {
     "data": {
      "image/png": "[encoded data removed]",
      "text/plain": [
       "<Figure size 432x288 with 1 Axes>"
      ]
     },
     "metadata": {
      "needs_background": "light"
     },
     "output_type": "display_data"
    }
   ],
   "source": [
    "plt.plot(scores)"
   ]
  },
  {
   "cell_type": "code",
   "execution_count": 7,
   "metadata": {},
   "outputs": [
    {
     "name": "stdout",
     "output_type": "stream",
     "text": [
      "0.9364438753765189\n",
      "0.963548128588225\n",
      "0.9609904485285267\n",
      "0.9649174548143293\n",
      "0.9644761067927753\n",
      "0.965189076059592\n",
      "0.9651438131100365\n",
      "0.9652343402904038\n",
      "0.9652117068941765\n",
      "0.9652456525058598\n",
      "0.9652569711249882\n",
      "0.9652456525058598\n",
      "0.9652343377287609\n",
      "0.9652569672829587\n",
      "0.9652569672829587\n",
      "0.9652569672829587\n",
      "0.9652456525058598\n",
      "0.9652569672829587\n",
      "0.9652569672829587\n"
     ]
    },
    {
     "data": {
      "image/png": "[encoded data removed]",
      "text/plain": [
       "<Figure size 432x288 with 1 Axes>"
      ]
     },
     "metadata": {
      "needs_background": "light"
     },
     "output_type": "display_data"
    }
   ],
   "source": [
    "from sklearn.neighbors import KNeighborsClassifier\n",
    "from sklearn.model_selection import cross_val_score\n",
    "for k in range(1, 20):\n",
    "    model = KNeighborsClassifier(n_neighbors=k)\n",
    "    scores = cross_val_score(model, df[df.columns[3:-2]].values, df['tariff_changes_count'].values, cv=10)\n",
    "    print(np.mean(scores))\n",
    "    plt.plot(scores)"
   ]
  }
 ],
 "metadata": {
  "kernelspec": {
   "display_name": "Python 3",
   "language": "python",
   "name": "python3"
  },
  "language_info": {
   "codemirror_mode": {
    "name": "ipython",
    "version": 3
   },
   "file_extension": ".py",
   "mimetype": "text/x-python",
   "name": "python",
   "nbconvert_exporter": "python",
   "pygments_lexer": "ipython3",
   "version": "3.7.1"
  }
 },
 "nbformat": 4,
 "nbformat_minor": 2
}
