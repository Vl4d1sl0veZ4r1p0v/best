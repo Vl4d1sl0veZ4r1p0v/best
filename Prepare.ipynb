{
 "cells": [
  {
   "cell_type": "code",
   "execution_count": 1,
   "metadata": {},
   "outputs": [],
   "source": [
    "import pandas as pd\n",
    "import numpy as np\n",
    "import matplotlib.pyplot as plt\n",
    "import seaborn as sns\n",
    "%matplotlib inline"
   ]
  },
  {
   "cell_type": "code",
   "execution_count": 3,
   "metadata": {},
   "outputs": [
    {
     "data": {
      "text/html": [
       "<div>\n",
       "<style scoped>\n",
       "    .dataframe tbody tr th:only-of-type {\n",
       "        vertical-align: middle;\n",
       "    }\n",
       "\n",
       "    .dataframe tbody tr th {\n",
       "        vertical-align: top;\n",
       "    }\n",
       "\n",
       "    .dataframe thead th {\n",
       "        text-align: right;\n",
       "    }\n",
       "</style>\n",
       "<table border=\"1\" class=\"dataframe\">\n",
       "  <thead>\n",
       "    <tr style=\"text-align: right;\">\n",
       "      <th></th>\n",
       "      <th>SUBS_ID</th>\n",
       "      <th>DATE_CALC</th>\n",
       "      <th>TARIFF_ID</th>\n",
       "      <th>CHARGE</th>\n",
       "      <th>SUPPORT_4G</th>\n",
       "      <th>SUPPORT_3G</th>\n",
       "      <th>LTE_TRAFF_FLAG</th>\n",
       "      <th>SMS_IN_CNT</th>\n",
       "      <th>SMS_OUT_CNT</th>\n",
       "      <th>CALLS_IN_CNT</th>\n",
       "      <th>CALLS_OUT_CNT</th>\n",
       "      <th>LIFE_TIME</th>\n",
       "      <th>DURATION_IN_MIN</th>\n",
       "      <th>DURATION_OUT_MIN</th>\n",
       "      <th>DATA_TRAFFIC_MB</th>\n",
       "      <th>SESSIONS_CNT</th>\n",
       "      <th>RECHARGE</th>\n",
       "      <th>RECHARGE_CNT</th>\n",
       "      <th>Выборка</th>\n",
       "    </tr>\n",
       "  </thead>\n",
       "  <tbody>\n",
       "    <tr>\n",
       "      <th>0</th>\n",
       "      <td>1245</td>\n",
       "      <td>2019-07-01</td>\n",
       "      <td>588.0</td>\n",
       "      <td>206.1</td>\n",
       "      <td>0</td>\n",
       "      <td>0</td>\n",
       "      <td>0.0</td>\n",
       "      <td>119</td>\n",
       "      <td>11</td>\n",
       "      <td>400</td>\n",
       "      <td>193</td>\n",
       "      <td>5213.0</td>\n",
       "      <td>448</td>\n",
       "      <td>237.15</td>\n",
       "      <td>16.79</td>\n",
       "      <td>838</td>\n",
       "      <td>250.0</td>\n",
       "      <td>2</td>\n",
       "      <td>1</td>\n",
       "    </tr>\n",
       "    <tr>\n",
       "      <th>1</th>\n",
       "      <td>1245</td>\n",
       "      <td>2019-08-01</td>\n",
       "      <td>588.0</td>\n",
       "      <td>378.9</td>\n",
       "      <td>0</td>\n",
       "      <td>0</td>\n",
       "      <td>0.0</td>\n",
       "      <td>125</td>\n",
       "      <td>13</td>\n",
       "      <td>332</td>\n",
       "      <td>215</td>\n",
       "      <td>5244.0</td>\n",
       "      <td>441</td>\n",
       "      <td>374.88</td>\n",
       "      <td>12.22</td>\n",
       "      <td>731</td>\n",
       "      <td>650.0</td>\n",
       "      <td>3</td>\n",
       "      <td>1</td>\n",
       "    </tr>\n",
       "    <tr>\n",
       "      <th>2</th>\n",
       "      <td>1245</td>\n",
       "      <td>2019-09-01</td>\n",
       "      <td>588.0</td>\n",
       "      <td>328.9</td>\n",
       "      <td>0</td>\n",
       "      <td>0</td>\n",
       "      <td>0.0</td>\n",
       "      <td>75</td>\n",
       "      <td>15</td>\n",
       "      <td>320</td>\n",
       "      <td>221</td>\n",
       "      <td>5274.0</td>\n",
       "      <td>444</td>\n",
       "      <td>300.65</td>\n",
       "      <td>12.43</td>\n",
       "      <td>768</td>\n",
       "      <td>0.0</td>\n",
       "      <td>0</td>\n",
       "      <td>1</td>\n",
       "    </tr>\n",
       "    <tr>\n",
       "      <th>3</th>\n",
       "      <td>1261</td>\n",
       "      <td>2019-07-01</td>\n",
       "      <td>524.0</td>\n",
       "      <td>318.6</td>\n",
       "      <td>0</td>\n",
       "      <td>1</td>\n",
       "      <td>0.0</td>\n",
       "      <td>210</td>\n",
       "      <td>39</td>\n",
       "      <td>109</td>\n",
       "      <td>60</td>\n",
       "      <td>5213.0</td>\n",
       "      <td>431</td>\n",
       "      <td>212.50</td>\n",
       "      <td>1626.61</td>\n",
       "      <td>1608</td>\n",
       "      <td>340.0</td>\n",
       "      <td>4</td>\n",
       "      <td>1</td>\n",
       "    </tr>\n",
       "    <tr>\n",
       "      <th>4</th>\n",
       "      <td>1261</td>\n",
       "      <td>2019-08-01</td>\n",
       "      <td>524.0</td>\n",
       "      <td>262.3</td>\n",
       "      <td>0</td>\n",
       "      <td>1</td>\n",
       "      <td>0.0</td>\n",
       "      <td>309</td>\n",
       "      <td>24</td>\n",
       "      <td>72</td>\n",
       "      <td>122</td>\n",
       "      <td>5244.0</td>\n",
       "      <td>225</td>\n",
       "      <td>237.78</td>\n",
       "      <td>3591.44</td>\n",
       "      <td>1601</td>\n",
       "      <td>150.0</td>\n",
       "      <td>1</td>\n",
       "      <td>1</td>\n",
       "    </tr>\n",
       "  </tbody>\n",
       "</table>\n",
       "</div>"
      ],
      "text/plain": [
       "   SUBS_ID  DATE_CALC  TARIFF_ID  CHARGE  SUPPORT_4G  SUPPORT_3G  \\\n",
       "0     1245 2019-07-01      588.0   206.1           0           0   \n",
       "1     1245 2019-08-01      588.0   378.9           0           0   \n",
       "2     1245 2019-09-01      588.0   328.9           0           0   \n",
       "3     1261 2019-07-01      524.0   318.6           0           1   \n",
       "4     1261 2019-08-01      524.0   262.3           0           1   \n",
       "\n",
       "   LTE_TRAFF_FLAG  SMS_IN_CNT  SMS_OUT_CNT  CALLS_IN_CNT  CALLS_OUT_CNT  \\\n",
       "0             0.0         119           11           400            193   \n",
       "1             0.0         125           13           332            215   \n",
       "2             0.0          75           15           320            221   \n",
       "3             0.0         210           39           109             60   \n",
       "4             0.0         309           24            72            122   \n",
       "\n",
       "   LIFE_TIME  DURATION_IN_MIN  DURATION_OUT_MIN  DATA_TRAFFIC_MB  \\\n",
       "0     5213.0              448            237.15            16.79   \n",
       "1     5244.0              441            374.88            12.22   \n",
       "2     5274.0              444            300.65            12.43   \n",
       "3     5213.0              431            212.50          1626.61   \n",
       "4     5244.0              225            237.78          3591.44   \n",
       "\n",
       "   SESSIONS_CNT  RECHARGE  RECHARGE_CNT  Выборка  \n",
       "0           838     250.0             2        1  \n",
       "1           731     650.0             3        1  \n",
       "2           768       0.0             0        1  \n",
       "3          1608     340.0             4        1  \n",
       "4          1601     150.0             1        1  "
      ]
     },
     "execution_count": 3,
     "metadata": {},
     "output_type": "execute_result"
    }
   ],
   "source": [
    "df = pd.read_excel('Dannye_po_Data_Motiv.xlsx')\n",
    "df.head()"
   ]
  },
  {
   "cell_type": "code",
   "execution_count": 4,
   "metadata": {
    "scrolled": true
   },
   "outputs": [
    {
     "data": {
      "text/html": [
       "<div>\n",
       "<style scoped>\n",
       "    .dataframe tbody tr th:only-of-type {\n",
       "        vertical-align: middle;\n",
       "    }\n",
       "\n",
       "    .dataframe tbody tr th {\n",
       "        vertical-align: top;\n",
       "    }\n",
       "\n",
       "    .dataframe thead th {\n",
       "        text-align: right;\n",
       "    }\n",
       "</style>\n",
       "<table border=\"1\" class=\"dataframe\">\n",
       "  <thead>\n",
       "    <tr style=\"text-align: right;\">\n",
       "      <th></th>\n",
       "      <th>SUBS_ID</th>\n",
       "      <th>TARIFF_ID</th>\n",
       "      <th>CHARGE</th>\n",
       "      <th>SUPPORT_4G</th>\n",
       "      <th>SUPPORT_3G</th>\n",
       "      <th>LTE_TRAFF_FLAG</th>\n",
       "      <th>SMS_IN_CNT</th>\n",
       "      <th>SMS_OUT_CNT</th>\n",
       "      <th>CALLS_IN_CNT</th>\n",
       "      <th>CALLS_OUT_CNT</th>\n",
       "      <th>LIFE_TIME</th>\n",
       "      <th>DURATION_IN_MIN</th>\n",
       "      <th>DURATION_OUT_MIN</th>\n",
       "      <th>DATA_TRAFFIC_MB</th>\n",
       "      <th>SESSIONS_CNT</th>\n",
       "      <th>RECHARGE</th>\n",
       "      <th>RECHARGE_CNT</th>\n",
       "      <th>Выборка</th>\n",
       "    </tr>\n",
       "  </thead>\n",
       "  <tbody>\n",
       "    <tr>\n",
       "      <th>count</th>\n",
       "      <td>8.929300e+04</td>\n",
       "      <td>89287.000000</td>\n",
       "      <td>89293.000000</td>\n",
       "      <td>89293.000000</td>\n",
       "      <td>89293.000000</td>\n",
       "      <td>88682.000000</td>\n",
       "      <td>89293.000000</td>\n",
       "      <td>89293.000000</td>\n",
       "      <td>89293.000000</td>\n",
       "      <td>89293.000000</td>\n",
       "      <td>88676.000000</td>\n",
       "      <td>89293.000000</td>\n",
       "      <td>89293.000000</td>\n",
       "      <td>89293.000000</td>\n",
       "      <td>89293.000000</td>\n",
       "      <td>89293.000000</td>\n",
       "      <td>89293.000000</td>\n",
       "      <td>89293.0</td>\n",
       "    </tr>\n",
       "    <tr>\n",
       "      <th>mean</th>\n",
       "      <td>1.156639e+06</td>\n",
       "      <td>315.999048</td>\n",
       "      <td>261.287274</td>\n",
       "      <td>0.601313</td>\n",
       "      <td>0.724939</td>\n",
       "      <td>0.457387</td>\n",
       "      <td>116.794934</td>\n",
       "      <td>12.423706</td>\n",
       "      <td>102.224822</td>\n",
       "      <td>101.101990</td>\n",
       "      <td>5397.981088</td>\n",
       "      <td>266.916533</td>\n",
       "      <td>270.868048</td>\n",
       "      <td>2226.388319</td>\n",
       "      <td>1041.367789</td>\n",
       "      <td>263.481866</td>\n",
       "      <td>1.312443</td>\n",
       "      <td>1.0</td>\n",
       "    </tr>\n",
       "    <tr>\n",
       "      <th>std</th>\n",
       "      <td>5.199966e+05</td>\n",
       "      <td>170.092115</td>\n",
       "      <td>785.094780</td>\n",
       "      <td>0.489631</td>\n",
       "      <td>0.446547</td>\n",
       "      <td>0.498184</td>\n",
       "      <td>117.619508</td>\n",
       "      <td>55.758458</td>\n",
       "      <td>117.047228</td>\n",
       "      <td>130.845306</td>\n",
       "      <td>46.153833</td>\n",
       "      <td>304.618611</td>\n",
       "      <td>378.710151</td>\n",
       "      <td>5826.364442</td>\n",
       "      <td>2204.524754</td>\n",
       "      <td>396.013275</td>\n",
       "      <td>1.442138</td>\n",
       "      <td>0.0</td>\n",
       "    </tr>\n",
       "    <tr>\n",
       "      <th>min</th>\n",
       "      <td>1.245000e+03</td>\n",
       "      <td>59.000000</td>\n",
       "      <td>0.000000</td>\n",
       "      <td>0.000000</td>\n",
       "      <td>0.000000</td>\n",
       "      <td>0.000000</td>\n",
       "      <td>0.000000</td>\n",
       "      <td>0.000000</td>\n",
       "      <td>0.000000</td>\n",
       "      <td>0.000000</td>\n",
       "      <td>3005.000000</td>\n",
       "      <td>0.000000</td>\n",
       "      <td>0.000000</td>\n",
       "      <td>0.000000</td>\n",
       "      <td>0.000000</td>\n",
       "      <td>0.000000</td>\n",
       "      <td>0.000000</td>\n",
       "      <td>1.0</td>\n",
       "    </tr>\n",
       "    <tr>\n",
       "      <th>25%</th>\n",
       "      <td>7.350280e+05</td>\n",
       "      <td>135.000000</td>\n",
       "      <td>66.600000</td>\n",
       "      <td>0.000000</td>\n",
       "      <td>0.000000</td>\n",
       "      <td>0.000000</td>\n",
       "      <td>42.000000</td>\n",
       "      <td>0.000000</td>\n",
       "      <td>30.000000</td>\n",
       "      <td>15.000000</td>\n",
       "      <td>5386.000000</td>\n",
       "      <td>62.000000</td>\n",
       "      <td>28.280000</td>\n",
       "      <td>0.000000</td>\n",
       "      <td>0.000000</td>\n",
       "      <td>0.000000</td>\n",
       "      <td>0.000000</td>\n",
       "      <td>1.0</td>\n",
       "    </tr>\n",
       "    <tr>\n",
       "      <th>50%</th>\n",
       "      <td>1.148620e+06</td>\n",
       "      <td>300.000000</td>\n",
       "      <td>250.000000</td>\n",
       "      <td>1.000000</td>\n",
       "      <td>1.000000</td>\n",
       "      <td>0.000000</td>\n",
       "      <td>93.000000</td>\n",
       "      <td>2.000000</td>\n",
       "      <td>74.000000</td>\n",
       "      <td>63.000000</td>\n",
       "      <td>5403.000000</td>\n",
       "      <td>176.000000</td>\n",
       "      <td>142.330000</td>\n",
       "      <td>0.050000</td>\n",
       "      <td>27.000000</td>\n",
       "      <td>200.000000</td>\n",
       "      <td>1.000000</td>\n",
       "      <td>1.0</td>\n",
       "    </tr>\n",
       "    <tr>\n",
       "      <th>75%</th>\n",
       "      <td>1.602853e+06</td>\n",
       "      <td>524.000000</td>\n",
       "      <td>350.000000</td>\n",
       "      <td>1.000000</td>\n",
       "      <td>1.000000</td>\n",
       "      <td>1.000000</td>\n",
       "      <td>159.000000</td>\n",
       "      <td>10.000000</td>\n",
       "      <td>141.000000</td>\n",
       "      <td>141.000000</td>\n",
       "      <td>5431.000000</td>\n",
       "      <td>368.000000</td>\n",
       "      <td>365.320000</td>\n",
       "      <td>2152.980000</td>\n",
       "      <td>1719.000000</td>\n",
       "      <td>350.000000</td>\n",
       "      <td>2.000000</td>\n",
       "      <td>1.0</td>\n",
       "    </tr>\n",
       "    <tr>\n",
       "      <th>max</th>\n",
       "      <td>2.069926e+06</td>\n",
       "      <td>610.000000</td>\n",
       "      <td>156138.850000</td>\n",
       "      <td>1.000000</td>\n",
       "      <td>1.000000</td>\n",
       "      <td>1.000000</td>\n",
       "      <td>5044.000000</td>\n",
       "      <td>5282.000000</td>\n",
       "      <td>7377.000000</td>\n",
       "      <td>6647.000000</td>\n",
       "      <td>5447.000000</td>\n",
       "      <td>10242.000000</td>\n",
       "      <td>8280.820000</td>\n",
       "      <td>449891.470000</td>\n",
       "      <td>167507.000000</td>\n",
       "      <td>30895.000000</td>\n",
       "      <td>39.000000</td>\n",
       "      <td>1.0</td>\n",
       "    </tr>\n",
       "  </tbody>\n",
       "</table>\n",
       "</div>"
      ],
      "text/plain": [
       "            SUBS_ID     TARIFF_ID         CHARGE    SUPPORT_4G    SUPPORT_3G  \\\n",
       "count  8.929300e+04  89287.000000   89293.000000  89293.000000  89293.000000   \n",
       "mean   1.156639e+06    315.999048     261.287274      0.601313      0.724939   \n",
       "std    5.199966e+05    170.092115     785.094780      0.489631      0.446547   \n",
       "min    1.245000e+03     59.000000       0.000000      0.000000      0.000000   \n",
       "25%    7.350280e+05    135.000000      66.600000      0.000000      0.000000   \n",
       "50%    1.148620e+06    300.000000     250.000000      1.000000      1.000000   \n",
       "75%    1.602853e+06    524.000000     350.000000      1.000000      1.000000   \n",
       "max    2.069926e+06    610.000000  156138.850000      1.000000      1.000000   \n",
       "\n",
       "       LTE_TRAFF_FLAG    SMS_IN_CNT   SMS_OUT_CNT  CALLS_IN_CNT  \\\n",
       "count    88682.000000  89293.000000  89293.000000  89293.000000   \n",
       "mean         0.457387    116.794934     12.423706    102.224822   \n",
       "std          0.498184    117.619508     55.758458    117.047228   \n",
       "min          0.000000      0.000000      0.000000      0.000000   \n",
       "25%          0.000000     42.000000      0.000000     30.000000   \n",
       "50%          0.000000     93.000000      2.000000     74.000000   \n",
       "75%          1.000000    159.000000     10.000000    141.000000   \n",
       "max          1.000000   5044.000000   5282.000000   7377.000000   \n",
       "\n",
       "       CALLS_OUT_CNT     LIFE_TIME  DURATION_IN_MIN  DURATION_OUT_MIN  \\\n",
       "count   89293.000000  88676.000000     89293.000000      89293.000000   \n",
       "mean      101.101990   5397.981088       266.916533        270.868048   \n",
       "std       130.845306     46.153833       304.618611        378.710151   \n",
       "min         0.000000   3005.000000         0.000000          0.000000   \n",
       "25%        15.000000   5386.000000        62.000000         28.280000   \n",
       "50%        63.000000   5403.000000       176.000000        142.330000   \n",
       "75%       141.000000   5431.000000       368.000000        365.320000   \n",
       "max      6647.000000   5447.000000     10242.000000       8280.820000   \n",
       "\n",
       "       DATA_TRAFFIC_MB   SESSIONS_CNT      RECHARGE  RECHARGE_CNT  Выборка  \n",
       "count     89293.000000   89293.000000  89293.000000  89293.000000  89293.0  \n",
       "mean       2226.388319    1041.367789    263.481866      1.312443      1.0  \n",
       "std        5826.364442    2204.524754    396.013275      1.442138      0.0  \n",
       "min           0.000000       0.000000      0.000000      0.000000      1.0  \n",
       "25%           0.000000       0.000000      0.000000      0.000000      1.0  \n",
       "50%           0.050000      27.000000    200.000000      1.000000      1.0  \n",
       "75%        2152.980000    1719.000000    350.000000      2.000000      1.0  \n",
       "max      449891.470000  167507.000000  30895.000000     39.000000      1.0  "
      ]
     },
     "execution_count": 4,
     "metadata": {},
     "output_type": "execute_result"
    }
   ],
   "source": [
    "df.describe()"
   ]
  },
  {
   "cell_type": "code",
   "execution_count": 5,
   "metadata": {},
   "outputs": [
    {
     "data": {
      "text/plain": [
       "(19,)"
      ]
     },
     "execution_count": 5,
     "metadata": {},
     "output_type": "execute_result"
    }
   ],
   "source": [
    "df.columns.shape"
   ]
  },
  {
   "cell_type": "code",
   "execution_count": 6,
   "metadata": {},
   "outputs": [
    {
     "data": {
      "text/plain": [
       "3    29531\n",
       "1      238\n",
       "2      231\n",
       "Name: SUBS_ID, dtype: int64"
      ]
     },
     "execution_count": 6,
     "metadata": {},
     "output_type": "execute_result"
    }
   ],
   "source": [
    "df['SUBS_ID'].value_counts().value_counts()"
   ]
  },
  {
   "cell_type": "code",
   "execution_count": 7,
   "metadata": {},
   "outputs": [],
   "source": [
    "prep_df = df[['SUBS_ID', 'TARIFF_ID']]"
   ]
  },
  {
   "cell_type": "code",
   "execution_count": 8,
   "metadata": {},
   "outputs": [
    {
     "data": {
      "text/html": [
       "<div>\n",
       "<style scoped>\n",
       "    .dataframe tbody tr th:only-of-type {\n",
       "        vertical-align: middle;\n",
       "    }\n",
       "\n",
       "    .dataframe tbody tr th {\n",
       "        vertical-align: top;\n",
       "    }\n",
       "\n",
       "    .dataframe thead th {\n",
       "        text-align: right;\n",
       "    }\n",
       "</style>\n",
       "<table border=\"1\" class=\"dataframe\">\n",
       "  <thead>\n",
       "    <tr style=\"text-align: right;\">\n",
       "      <th></th>\n",
       "      <th>SUBS_ID</th>\n",
       "      <th>TARIFF_ID</th>\n",
       "    </tr>\n",
       "  </thead>\n",
       "  <tbody>\n",
       "    <tr>\n",
       "      <th>0</th>\n",
       "      <td>1245</td>\n",
       "      <td>588.0</td>\n",
       "    </tr>\n",
       "    <tr>\n",
       "      <th>1</th>\n",
       "      <td>1245</td>\n",
       "      <td>588.0</td>\n",
       "    </tr>\n",
       "    <tr>\n",
       "      <th>2</th>\n",
       "      <td>1245</td>\n",
       "      <td>588.0</td>\n",
       "    </tr>\n",
       "    <tr>\n",
       "      <th>3</th>\n",
       "      <td>1261</td>\n",
       "      <td>524.0</td>\n",
       "    </tr>\n",
       "    <tr>\n",
       "      <th>4</th>\n",
       "      <td>1261</td>\n",
       "      <td>524.0</td>\n",
       "    </tr>\n",
       "  </tbody>\n",
       "</table>\n",
       "</div>"
      ],
      "text/plain": [
       "   SUBS_ID  TARIFF_ID\n",
       "0     1245      588.0\n",
       "1     1245      588.0\n",
       "2     1245      588.0\n",
       "3     1261      524.0\n",
       "4     1261      524.0"
      ]
     },
     "execution_count": 8,
     "metadata": {},
     "output_type": "execute_result"
    }
   ],
   "source": [
    "prep_df.head()"
   ]
  },
  {
   "cell_type": "code",
   "execution_count": 9,
   "metadata": {},
   "outputs": [],
   "source": [
    "people_posts = prep_df['SUBS_ID'].value_counts()"
   ]
  },
  {
   "cell_type": "code",
   "execution_count": 11,
   "metadata": {},
   "outputs": [
    {
     "data": {
      "text/plain": [
       "1823842    3\n",
       "426949     3\n",
       "1584016    3\n",
       "668563     3\n",
       "816807     3\n",
       "Name: SUBS_ID, dtype: int64"
      ]
     },
     "execution_count": 11,
     "metadata": {},
     "output_type": "execute_result"
    }
   ],
   "source": [
    "people_posts.head()"
   ]
  },
  {
   "cell_type": "code",
   "execution_count": 12,
   "metadata": {},
   "outputs": [
    {
     "data": {
      "text/plain": [
       "array([ True,  True,  True, ..., False, False, False])"
      ]
     },
     "execution_count": 12,
     "metadata": {},
     "output_type": "execute_result"
    }
   ],
   "source": [
    "people_posts.values == 3"
   ]
  },
  {
   "cell_type": "code",
   "execution_count": 13,
   "metadata": {},
   "outputs": [
    {
     "data": {
      "text/plain": [
       "array([    0,     1,     2, ..., 29528, 29529, 29530])"
      ]
     },
     "execution_count": 13,
     "metadata": {},
     "output_type": "execute_result"
    }
   ],
   "source": [
    "indexs = np.where(people_posts.values == 3)[0]\n",
    "indexs"
   ]
  },
  {
   "cell_type": "code",
   "execution_count": 29,
   "metadata": {},
   "outputs": [
    {
     "data": {
      "text/plain": [
       "(9770,)"
      ]
     },
     "execution_count": 29,
     "metadata": {},
     "output_type": "execute_result"
    }
   ],
   "source": [
    "a = []\n",
    "for i in range(0, prep.shape[0]-2):\n",
    "    if prep_df['SUBS_ID'][i] == prep_df['SUBS_ID'][i + 1] == prep_df['SUBS_ID'][i + 2]:\n",
    "        a.append(i)\n",
    "a = np.array(a)\n",
    "a.shape"
   ]
  },
  {
   "cell_type": "code",
   "execution_count": 35,
   "metadata": {},
   "outputs": [
    {
     "data": {
      "text/html": [
       "<div>\n",
       "<style scoped>\n",
       "    .dataframe tbody tr th:only-of-type {\n",
       "        vertical-align: middle;\n",
       "    }\n",
       "\n",
       "    .dataframe tbody tr th {\n",
       "        vertical-align: top;\n",
       "    }\n",
       "\n",
       "    .dataframe thead th {\n",
       "        text-align: right;\n",
       "    }\n",
       "</style>\n",
       "<table border=\"1\" class=\"dataframe\">\n",
       "  <thead>\n",
       "    <tr style=\"text-align: right;\">\n",
       "      <th></th>\n",
       "      <th>SUBS_ID</th>\n",
       "      <th>TARIFF_ID</th>\n",
       "    </tr>\n",
       "  </thead>\n",
       "  <tbody>\n",
       "    <tr>\n",
       "      <th>0</th>\n",
       "      <td>1245</td>\n",
       "      <td>588.0</td>\n",
       "    </tr>\n",
       "    <tr>\n",
       "      <th>3</th>\n",
       "      <td>1261</td>\n",
       "      <td>524.0</td>\n",
       "    </tr>\n",
       "    <tr>\n",
       "      <th>6</th>\n",
       "      <td>1325</td>\n",
       "      <td>130.0</td>\n",
       "    </tr>\n",
       "    <tr>\n",
       "      <th>9</th>\n",
       "      <td>1334</td>\n",
       "      <td>560.0</td>\n",
       "    </tr>\n",
       "    <tr>\n",
       "      <th>12</th>\n",
       "      <td>1364</td>\n",
       "      <td>300.0</td>\n",
       "    </tr>\n",
       "  </tbody>\n",
       "</table>\n",
       "</div>"
      ],
      "text/plain": [
       "    SUBS_ID  TARIFF_ID\n",
       "0      1245      588.0\n",
       "3      1261      524.0\n",
       "6      1325      130.0\n",
       "9      1334      560.0\n",
       "12     1364      300.0"
      ]
     },
     "execution_count": 35,
     "metadata": {},
     "output_type": "execute_result"
    }
   ],
   "source": [
    "prep = prep_df.loc[a]\n",
    "prep.head()"
   ]
  },
  {
   "cell_type": "code",
   "execution_count": 37,
   "metadata": {},
   "outputs": [
    {
     "data": {
      "text/plain": [
       "610302    1\n",
       "357708    1\n",
       "517462    1\n",
       "556373    1\n",
       "380243    1\n",
       "         ..\n",
       "578199    1\n",
       "816411    1\n",
       "772791    1\n",
       "805524    1\n",
       "759811    1\n",
       "Name: SUBS_ID, Length: 9770, dtype: int64"
      ]
     },
     "execution_count": 37,
     "metadata": {},
     "output_type": "execute_result"
    }
   ],
   "source": [
    "prep['SUBS_ID'].value_counts()"
   ]
  },
  {
   "cell_type": "code",
   "execution_count": 73,
   "metadata": {},
   "outputs": [
    {
     "data": {
      "text/plain": [
       "(29310,)"
      ]
     },
     "execution_count": 73,
     "metadata": {},
     "output_type": "execute_result"
    }
   ],
   "source": [
    "b = []\n",
    "for i in range(df['SUBS_ID'].values.shape[0]):\n",
    "    if df['SUBS_ID'][i] in prep['SUBS_ID'].values:\n",
    "        b.append(i)\n",
    "b = np.array(b)\n",
    "b.shape"
   ]
  },
  {
   "cell_type": "code",
   "execution_count": 78,
   "metadata": {},
   "outputs": [
    {
     "data": {
      "text/plain": [
       "650596    3\n",
       "500401    3\n",
       "635603    3\n",
       "801490    3\n",
       "303825    3\n",
       "         ..\n",
       "263658    3\n",
       "810788    3\n",
       "574596    3\n",
       "17890     3\n",
       "759811    3\n",
       "Name: SUBS_ID, Length: 9770, dtype: int64"
      ]
     },
     "execution_count": 78,
     "metadata": {},
     "output_type": "execute_result"
    }
   ],
   "source": [
    "three_df = df.iloc[b]['SUBS_ID']\n",
    "three_df.value_counts()"
   ]
  },
  {
   "cell_type": "code",
   "execution_count": null,
   "metadata": {},
   "outputs": [],
   "source": []
  }
 ],
 "metadata": {
  "kernelspec": {
   "display_name": "Python 3",
   "language": "python",
   "name": "python3"
  },
  "language_info": {
   "codemirror_mode": {
    "name": "ipython",
    "version": 3
   },
   "file_extension": ".py",
   "mimetype": "text/x-python",
   "name": "python",
   "nbconvert_exporter": "python",
   "pygments_lexer": "ipython3",
   "version": "3.7.1"
  }
 },
 "nbformat": 4,
 "nbformat_minor": 2
}
